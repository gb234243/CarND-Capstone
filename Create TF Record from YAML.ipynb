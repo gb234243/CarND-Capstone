{
 "cells": [
  {
   "cell_type": "code",
   "execution_count": 1,
   "metadata": {},
   "outputs": [
    {
     "name": "stderr",
     "output_type": "stream",
     "text": [
      "/home/william/Applications/anaconda3/envs/py3/lib/python3.6/site-packages/h5py/__init__.py:36: FutureWarning: Conversion of the second argument of issubdtype from `float` to `np.floating` is deprecated. In future, it will be treated as `np.float64 == np.dtype(float).type`.\n",
      "  from ._conv import register_converters as _register_converters\n"
     ]
    }
   ],
   "source": [
    "import os, io, hashlib, logging\n",
    "\n",
    "import tensorflow as tf\n",
    "import PIL.Image\n",
    "import yaml\n",
    "import matplotlib.pyplot as plt\n",
    "\n",
    "from object_detection.utils import dataset_util, label_map_util"
   ]
  },
  {
   "cell_type": "code",
   "execution_count": 2,
   "metadata": {},
   "outputs": [],
   "source": [
    "def getCoords(box):\n",
    "    xmin = box['xmin']\n",
    "    xmax = xmin + box['x_width']\n",
    "    ymin = box['ymin']\n",
    "    ymax = ymin + box['y_height']\n",
    "    \n",
    "    return (xmin, ymin, xmax, ymax)\n",
    "\n",
    "yaml_keys = {\n",
    "    'path': 'filename',\n",
    "    'boxes': 'annotations',\n",
    "    'label': 'class',\n",
    "    'getCoords': getCoords,\n",
    "    'labelEnum': {\n",
    "        'default': 1,\n",
    "        'Red': 2,\n",
    "        'Yellow': 3,\n",
    "        'Green': 4\n",
    "    }\n",
    "}\n",
    "## TODO: Create yaml_keys for BOSCH Dataset\n",
    "# yaml_keys = {\n",
    "#     path: 'path',\n",
    "#     boxes: 'boxes',\n",
    "#     label: 'label'\n",
    "# }"
   ]
  },
  {
   "cell_type": "code",
   "execution_count": 3,
   "metadata": {},
   "outputs": [],
   "source": [
    "yaml_filename = \"data.yml\"\n",
    "dataset = yaml.load(open(yaml_filename, 'rb').read())\n",
    "\n",
    "for i in range(len(dataset)):\n",
    "    dataset[i][yaml_keys['path']] = os.path.abspath(os.path.join(\n",
    "        os.path.dirname(yaml_filename), dataset[i][yaml_keys['path']]))\n",
    "    "
   ]
  },
  {
   "cell_type": "code",
   "execution_count": 4,
   "metadata": {},
   "outputs": [
    {
     "data": {
      "text/plain": [
       "{'annotations': [{'class': 'Red',\n",
       "   'x_width': 35,\n",
       "   'xmin': 208,\n",
       "   'y_height': 85,\n",
       "   'ymin': 361},\n",
       "  {'class': 'Red', 'x_width': 35, 'xmin': 387, 'y_height': 88, 'ymin': 366},\n",
       "  {'class': 'Red', 'x_width': 35, 'xmin': 563, 'y_height': 87, 'ymin': 371}],\n",
       " 'class': 'image',\n",
       " 'filename': '/home/william/Custom/tensorflow/models/research/obj_detection_wkspace/data/red/1_341.jpg'}"
      ]
     },
     "execution_count": 4,
     "metadata": {},
     "output_type": "execute_result"
    }
   ],
   "source": [
    "dataset[0]"
   ]
  },
  {
   "cell_type": "code",
   "execution_count": 5,
   "metadata": {},
   "outputs": [],
   "source": [
    "def tf_example(data):\n",
    "    # Read in image and get encoded key value\n",
    "    img_path = data[yaml_keys['path']]\n",
    "    filename = os.path.basename(img_path)\n",
    "    with tf.gfile.GFile(img_path, 'rb') as fid:\n",
    "        encoded_jpg = fid.read()\n",
    "    encoded_jpg_io = io.BytesIO(encoded_jpg)\n",
    "    image = PIL.Image.open(encoded_jpg_io)\n",
    "    if image.format != 'JPEG':\n",
    "        raise ValueError('Image format not JPEG')\n",
    "    key = hashlib.sha256(encoded_jpg).hexdigest()\n",
    "    \n",
    "    # Get image dimensions\n",
    "    width = int(image.width)\n",
    "    height = int(image.height)\n",
    "    \n",
    "    # Create lists of all bounding boxes\n",
    "    xmin = []\n",
    "    ymin = []\n",
    "    xmax = []\n",
    "    ymax = []\n",
    "    classes = []\n",
    "    classes_text = []\n",
    "    \n",
    "    # Get lists of all bounding boxes\n",
    "    for box in data[yaml_keys['boxes']]:\n",
    "        # Get bounding box coordinates\n",
    "        a, b, c, d = yaml_keys['getCoords'](box)\n",
    "        xmin.append(float(a) / width)\n",
    "        ymin.append(float(b) / height)\n",
    "        xmax.append(float(c) / width)\n",
    "        ymax.append(float(d) / height)\n",
    "        \n",
    "        # Get bounding box label\n",
    "        label = box[yaml_keys['label']]\n",
    "        if label in yaml_keys['labelEnum']:\n",
    "            labelEnum = yaml_keys['labelEnum'][label]\n",
    "        else:\n",
    "            labelEnum = yaml_keys['labelEnum']['default']\n",
    "        \n",
    "        classes.append(labelEnum)\n",
    "        classes_text.append(label.encode('utf8'))\n",
    "        \n",
    "    # Create TF example\n",
    "    example = tf.train.Example(features=tf.train.Features(feature={\n",
    "        'image/height': dataset_util.int64_feature(height),\n",
    "        'image/width': dataset_util.int64_feature(width),\n",
    "        'image/filename': dataset_util.bytes_feature(filename.encode('utf8')),\n",
    "        'image/source_id': dataset_util.bytes_feature(filename.encode('utf8')),\n",
    "        'image/key/sha256': dataset_util.bytes_feature(key.encode('utf8')),\n",
    "        'image/encoded': dataset_util.bytes_feature(encoded_jpg),\n",
    "        'image/format': dataset_util.bytes_feature('jpeg'.encode('utf8')),\n",
    "        'image/object/bbox/xmin': dataset_util.float_list_feature(xmin),\n",
    "        'image/object/bbox/xmax': dataset_util.float_list_feature(xmax),\n",
    "        'image/object/bbox/ymin': dataset_util.float_list_feature(ymin),\n",
    "        'image/object/bbox/ymax': dataset_util.float_list_feature(ymax),\n",
    "        'image/object/class/text': dataset_util.bytes_list_feature(classes_text),\n",
    "        'image/object/class/label': dataset_util.int64_list_feature(classes)\n",
    "    }))\n",
    "    \n",
    "    # Return TF example\n",
    "    return example"
   ]
  },
  {
   "cell_type": "code",
   "execution_count": 6,
   "metadata": {},
   "outputs": [],
   "source": [
    "# Determine name of record based on YAML filename\n",
    "output_name = '.'.join(\n",
    "    os.path.basename(yaml_filename)\n",
    "    .split('.')[:-1]) + '.record'\n",
    "output_path = os.path.abspath(os.path.join(\n",
    "    os.path.dirname(yaml_filename), output_name))\n",
    "\n",
    "# Create and write the record to file\n",
    "writer = tf.python_io.TFRecordWriter(output_path)\n",
    "for data in dataset:\n",
    "    example = tf_example(data)\n",
    "    writer.write(example.SerializeToString())\n",
    "writer.close()"
   ]
  },
  {
   "cell_type": "code",
   "execution_count": null,
   "metadata": {},
   "outputs": [],
   "source": []
  }
 ],
 "metadata": {
  "kernelspec": {
   "display_name": "Python 3",
   "language": "python",
   "name": "python3"
  },
  "language_info": {
   "codemirror_mode": {
    "name": "ipython",
    "version": 3
   },
   "file_extension": ".py",
   "mimetype": "text/x-python",
   "name": "python",
   "nbconvert_exporter": "python",
   "pygments_lexer": "ipython3",
   "version": "3.6.5"
  }
 },
 "nbformat": 4,
 "nbformat_minor": 2
}
