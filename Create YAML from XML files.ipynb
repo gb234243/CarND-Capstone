{
 "cells": [
  {
   "cell_type": "code",
   "execution_count": 1,
   "metadata": {},
   "outputs": [],
   "source": [
    "import os, yaml\n",
    "from PIL import Image\n",
    "import xml.etree.ElementTree as ET"
   ]
  },
  {
   "cell_type": "code",
   "execution_count": 2,
   "metadata": {},
   "outputs": [
    {
     "name": "stdout",
     "output_type": "stream",
     "text": [
      "1659 0 1659\n"
     ]
    }
   ],
   "source": [
    "# Get list of all XML files\n",
    "all_xml = []\n",
    "all_png = []\n",
    "all_jpg = []\n",
    "\n",
    "abs_path = os.path.abspath(os.path.join(os.path.dirname('')))\n",
    "data_dir = 'data'\n",
    "paths = ['red', 'green', 'yellow']\n",
    "\n",
    "for path in paths:\n",
    "    files = os.listdir(os.path.join(data_dir, path))\n",
    "    files = list(map(lambda file: os.path.join(data_dir, path, file), files))\n",
    "    \n",
    "    all_xml += list(filter(lambda x: x[-4:] == '.xml', files))\n",
    "    all_png += list(filter(lambda x: x[-4:] == '.png', files))\n",
    "    all_jpg += list(filter(lambda x: x[-4:] == '.jpg', files))\n",
    "    \n",
    "print(len(all_xml), len(all_png), len(all_jpg))"
   ]
  },
  {
   "cell_type": "markdown",
   "metadata": {},
   "source": [
    "# Create JPG from PNG and Delete PNG\n",
    "\n",
    "PNG files take up a lot of space. Because our eventual TF record stores the binary data of each image, we want to convert all the PNG files to JPG files ahead of time to ensure space is saved."
   ]
  },
  {
   "cell_type": "code",
   "execution_count": 3,
   "metadata": {},
   "outputs": [],
   "source": [
    "for png_file in all_png:\n",
    "    image = Image.open(png_file)\n",
    "    image = image.convert('RGB')\n",
    "    \n",
    "    # Save file as JPG\n",
    "    image.save(png_file[:-4] + '.jpg')\n",
    "    \n",
    "    # Remove PNG file\n",
    "    os.remove(png_file)"
   ]
  },
  {
   "cell_type": "markdown",
   "metadata": {},
   "source": [
    "# Create YAML File"
   ]
  },
  {
   "cell_type": "code",
   "execution_count": 4,
   "metadata": {},
   "outputs": [],
   "source": [
    "all_parsed_xml = []\n",
    "\n",
    "for xml_file in all_xml:\n",
    "    root = ET.parse(xml_file).getroot()\n",
    "    \n",
    "    # Get filename and ensure we use JPG image instead of PNG\n",
    "    filename = root.findtext('filename')\n",
    "    filename = filename[:-4] + '.jpg'\n",
    "    \n",
    "    # Get the directory path\n",
    "    path = root.findtext('path')\n",
    "    if path[0] == 'C':\n",
    "        dirpath = 'data/' + '/'.join(path.split('\\\\')[-2:-1])\n",
    "    else:\n",
    "        dirpath = 'data/' + '/'.join(path.split('/')[-2:-1])\n",
    "    \n",
    "    # Get all bounding boxes\n",
    "    boxes = []\n",
    "    for obj in root.findall('object'):\n",
    "        # Class name\n",
    "        label = obj.findtext('name')\n",
    "        \n",
    "        # Bounding box properties\n",
    "        boundingbox = obj.find('bndbox')\n",
    "        xmin = int(boundingbox.findtext('xmin'))\n",
    "        ymin = int(boundingbox.findtext('ymin'))\n",
    "        xmax = int(boundingbox.findtext('xmax'))\n",
    "        ymax = int(boundingbox.findtext('ymax'))\n",
    "        \n",
    "        # Create the bounding box object and append to list\n",
    "        box = {\n",
    "            'class': label,\n",
    "            'xmin': xmin,\n",
    "            'ymin': ymin,\n",
    "            'x_width': xmax - xmin,\n",
    "            'y_height': ymax - ymin\n",
    "        }\n",
    "        boxes.append(box)\n",
    "        \n",
    "    # Create the image object and append to list\n",
    "    parsed_xml = {\n",
    "        'annotations': boxes,\n",
    "        'class': 'image',\n",
    "        'filename': os.path.join(dirpath, filename)\n",
    "    }\n",
    "    all_parsed_xml.append(parsed_xml)"
   ]
  },
  {
   "cell_type": "code",
   "execution_count": 5,
   "metadata": {},
   "outputs": [],
   "source": [
    "output_file = 'data.yml'\n",
    "\n",
    "with open(output_file, 'w') as outfile:\n",
    "    yaml.dump(all_parsed_xml, outfile, default_flow_style=False)"
   ]
  },
  {
   "cell_type": "code",
   "execution_count": null,
   "metadata": {},
   "outputs": [],
   "source": []
  }
 ],
 "metadata": {
  "kernelspec": {
   "display_name": "Python 3",
   "language": "python",
   "name": "python3"
  },
  "language_info": {
   "codemirror_mode": {
    "name": "ipython",
    "version": 3
   },
   "file_extension": ".py",
   "mimetype": "text/x-python",
   "name": "python",
   "nbconvert_exporter": "python",
   "pygments_lexer": "ipython3",
   "version": "3.6.5"
  }
 },
 "nbformat": 4,
 "nbformat_minor": 2
}
